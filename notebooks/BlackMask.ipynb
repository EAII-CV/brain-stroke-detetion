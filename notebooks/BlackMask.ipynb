{
 "cells": [
  {
   "cell_type": "code",
   "execution_count": null,
   "metadata": {},
   "outputs": [],
   "source": [
    "import numpy as np\n",
    "import cv2\n",
    "import glob\n",
    "import os"
   ]
  },
  {
   "cell_type": "code",
   "execution_count": null,
   "metadata": {},
   "outputs": [],
   "source": [
    "# # main folder path\n",
    "parent_dir = 'F:/theises/proposal/Dataset/Organized Dataset/new organized/normal/'"
   ]
  },
  {
   "cell_type": "code",
   "execution_count": null,
   "metadata": {},
   "outputs": [],
   "source": [
    "# # iteration through the normal folder to print subfolders name( list of patients) \n",
    "for j in os.listdir(parent_dir):\n",
    "# lists of patients in normal folder\n",
    "    print(\"Patient\",j,\"have \")\n",
    "    # A folder path for each patients\n",
    "    pth=glob.glob('F:/theises/proposal/Dataset/Organized Dataset/new organized/normal/'+j+'/**')\n",
    "    n=0\n",
    "    for k in pth:\n",
    "        # printing each folder path to each folder\n",
    "        #print(k)\n",
    "        if(n==0):\n",
    "          pth_mask=glob.glob('F:/theises/proposal/Dataset/Organized Dataset/new organized/normal/'+j+'/'+'Mask/**')\n",
    "          print(\"number of masks: \",len(pth_mask))\n",
    "          print(pth_mask)\n",
    "        else:\n",
    "            pth_scan=glob.glob('F:/theises/proposal/Dataset/Organized Dataset/new organized/normal/'+j+'/'+'Scan/**')\n",
    "            pth_scan=glob.glob('F:/theises/proposal/Dataset/Organized Dataset/new organized/normal/'+j+'/'+'Scan/*.jpg')\n",
    "            print('number of scans: ',len(pth_scan))\n",
    "            #for i in range(len(pth_scan)):\n",
    "            for i in pth_scan:\n",
    "                print(i)\n",
    "                img=cv2.imread(i)\n",
    "                img=img*0\n",
    "                # to obtain name of the file or images \n",
    "                filename = os.path.basename(i)\n",
    "                #print(filename)\n",
    "\n",
    "                #print(img.shape)\n",
    "#     multiplication of float values by 0 and obtain the same name as that of slice name\n",
    "               \n",
    "                img=img*0\n",
    "                cv2.imwrite('F:/theises/proposal/Dataset/Organized Dataset/new organized/normal/'+j+'/Mask/'+filename,img)\n",
    "        n+=1\n"
   ]
  }
 ],
 "metadata": {
  "kernelspec": {
   "display_name": "base",
   "language": "python",
   "name": "python3"
  },
  "language_info": {
   "name": "python",
   "version": "3.9.12 (main, Apr  4 2022, 05:22:27) [MSC v.1916 64 bit (AMD64)]"
  },
  "orig_nbformat": 4,
  "vscode": {
   "interpreter": {
    "hash": "52788d8830c87fd8fdaa047c49e57cb1124d9adf268f7bf2f73a506aa0daac22"
   }
  }
 },
 "nbformat": 4,
 "nbformat_minor": 2
}
